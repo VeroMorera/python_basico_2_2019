{
 "cells": [
  {
   "cell_type": "markdown",
   "metadata": {},
   "source": [
    "**TAREA 6 - PYTHON**\n",
    "\n",
    "Responder las preguntas de manera directa utilizando ejemplos.\n",
    "\n",
    "\n",
    "---------------------------------------------------------------------------------------------------------------"
   ]
  },
  {
   "cell_type": "markdown",
   "metadata": {},
   "source": [
    "**1- Cuáles son las diferencias en la lista y la tupla?**\n",
    "\n",
    "\n",
    "Tanto la lista como la tupla son contenedores de datos, pueden estar vacías o contener una cantidad finita de datos. \n",
    "\n",
    "La diferencia principal, es que la lista es una estructura dinámica, a la que se le pueden agregar, quitar y editar y consultar elementos, mientras que la tupla, se puede consultar, no se puede modificar, solo se le pueden \"sumar\" datos. \n",
    "\n",
    "Ver ejemplos a continuación:"
   ]
  },
  {
   "cell_type": "code",
   "execution_count": 2,
   "metadata": {},
   "outputs": [
    {
     "data": {
      "text/plain": [
       "list"
      ]
     },
     "execution_count": 2,
     "metadata": {},
     "output_type": "execute_result"
    }
   ],
   "source": [
    "#en el caso de la lista, podemos crearla vacía o con elementos:\n",
    "\n",
    "lista_vacia = []\n",
    "\n",
    "una_lista = ['hola', 'mundo', 'soy', 'una', 'lista']  #puede contener todo tipo de datos, esta tiene strings.\n",
    "\n",
    "type(lista_vacia)\n"
   ]
  },
  {
   "cell_type": "code",
   "execution_count": 3,
   "metadata": {},
   "outputs": [
    {
     "data": {
      "text/plain": [
       "[5443]"
      ]
     },
     "execution_count": 3,
     "metadata": {},
     "output_type": "execute_result"
    }
   ],
   "source": [
    "#Puedo agregar elementos a una lista:\n",
    "\n",
    "lista_vacia.append(5443) #en este caso se agregan números enteros.\n",
    "lista_vacia"
   ]
  },
  {
   "cell_type": "code",
   "execution_count": 17,
   "metadata": {},
   "outputs": [
    {
     "data": {
      "text/plain": [
       "['hola', 'mundo', 'lista']"
      ]
     },
     "execution_count": 17,
     "metadata": {},
     "output_type": "execute_result"
    }
   ],
   "source": [
    "#Puedo quitar elementos de una lista por índice o por selección directa:\n",
    "una_lista.remove(una_lista[3])\n",
    "una_lista.remove('soy')\n",
    "una_lista"
   ]
  },
  {
   "cell_type": "code",
   "execution_count": 30,
   "metadata": {},
   "outputs": [
    {
     "data": {
      "text/plain": [
       "'hola'"
      ]
     },
     "execution_count": 30,
     "metadata": {},
     "output_type": "execute_result"
    }
   ],
   "source": [
    "#consultar lista:\n",
    "\n",
    "una_lista[0]"
   ]
  },
  {
   "cell_type": "code",
   "execution_count": 26,
   "metadata": {},
   "outputs": [
    {
     "data": {
      "text/plain": [
       "tuple"
      ]
     },
     "execution_count": 26,
     "metadata": {},
     "output_type": "execute_result"
    }
   ],
   "source": [
    "#en el caso de las tuplas, podemos crer tuplas con contenido:\n",
    "\n",
    "una_tupla= ('mango', 'kiwi', 'sandía')\n",
    "type(una_tupla)\n"
   ]
  },
  {
   "cell_type": "code",
   "execution_count": 27,
   "metadata": {},
   "outputs": [
    {
     "data": {
      "text/plain": [
       "tuple"
      ]
     },
     "execution_count": 27,
     "metadata": {},
     "output_type": "execute_result"
    }
   ],
   "source": [
    "# o tuplas vacías:\n",
    "\n",
    "una_tupla_vacia = ()\n",
    "type(una_tupla_vacia)"
   ]
  },
  {
   "cell_type": "code",
   "execution_count": 37,
   "metadata": {},
   "outputs": [
    {
     "data": {
      "text/plain": [
       "('mango', 'kiwi', 'sandía', 'piña')"
      ]
     },
     "execution_count": 37,
     "metadata": {},
     "output_type": "execute_result"
    }
   ],
   "source": [
    "# se pueden agregar objetos a una tupla, sumando una nueva tupla:\n",
    "\n",
    "una_tupla_con_piña = una_tupla + ('piña',)\n",
    "una_tupla"
   ]
  },
  {
   "cell_type": "code",
   "execution_count": 38,
   "metadata": {},
   "outputs": [
    {
     "data": {
      "text/plain": [
       "'sandía'"
      ]
     },
     "execution_count": 38,
     "metadata": {},
     "output_type": "execute_result"
    }
   ],
   "source": [
    "#también se pueden consultar:\n",
    "\n",
    "una_tupla[2]"
   ]
  },
  {
   "cell_type": "code",
   "execution_count": 43,
   "metadata": {},
   "outputs": [
    {
     "ename": "AttributeError",
     "evalue": "'tuple' object has no attribute 'remove'",
     "output_type": "error",
     "traceback": [
      "\u001b[0;31m---------------------------------------------------------------------------\u001b[0m",
      "\u001b[0;31mAttributeError\u001b[0m                            Traceback (most recent call last)",
      "\u001b[0;32m<ipython-input-43-dd9631ac1470>\u001b[0m in \u001b[0;36m<module>\u001b[0;34m\u001b[0m\n\u001b[1;32m      2\u001b[0m \u001b[0;34m\u001b[0m\u001b[0m\n\u001b[1;32m      3\u001b[0m \u001b[0;31m#una_tupla.append('naranja') #error\u001b[0m\u001b[0;34m\u001b[0m\u001b[0;34m\u001b[0m\u001b[0;34m\u001b[0m\u001b[0m\n\u001b[0;32m----> 4\u001b[0;31m \u001b[0muna_tupla\u001b[0m\u001b[0;34m.\u001b[0m\u001b[0mremove\u001b[0m\u001b[0;34m(\u001b[0m\u001b[0;34m'kiwi'\u001b[0m\u001b[0;34m)\u001b[0m \u001b[0;31m#error\u001b[0m\u001b[0;34m\u001b[0m\u001b[0;34m\u001b[0m\u001b[0m\n\u001b[0m",
      "\u001b[0;31mAttributeError\u001b[0m: 'tuple' object has no attribute 'remove'"
     ]
    }
   ],
   "source": [
    "#pero no se pueden agregar o eliminar elementos:\n",
    "\n",
    "una_tupla.append('naranja') #error\n",
    "una_tupla.remove('kiwi') #error"
   ]
  },
  {
   "cell_type": "markdown",
   "metadata": {},
   "source": [
    "**2- ¿Cómo se puede usar expresiones if else en una sola línea, \n",
    "comúnmente llamadas operaraciones ternarias?**\n"
   ]
  },
  {
   "cell_type": "code",
   "execution_count": 6,
   "metadata": {},
   "outputs": [
    {
     "name": "stdout",
     "output_type": "stream",
     "text": [
      "2 es menor que 5\n"
     ]
    }
   ],
   "source": [
    "mi_num = 2\n",
    "\n",
    "if mi_num < 5:\n",
    "    print( mi_num,  'es menor que 5')\n",
    "    \n",
    "elif mi_num == 5:\n",
    "    print( mi_num, 'es igual a 5')\n",
    "\n",
    "else:\n",
    "    print( mi_num,  'es mayor que 5')\n",
    "\n"
   ]
  },
  {
   "cell_type": "markdown",
   "metadata": {},
   "source": [
    "**¿Para qué sirve dir() y help()?**\n",
    "\n",
    "La función **dir()** retorna todas las propiedades y métidos de un objeto especifico, pero sin los valores.\n",
    "\n",
    "Por ejemplo:"
   ]
  },
  {
   "cell_type": "code",
   "execution_count": 45,
   "metadata": {},
   "outputs": [
    {
     "name": "stdout",
     "output_type": "stream",
     "text": [
      "['__class__', '__delattr__', '__dict__', '__dir__', '__doc__', '__eq__', '__format__', '__ge__', '__getattribute__', '__gt__', '__hash__', '__init__', '__init_subclass__', '__le__', '__lt__', '__module__', '__ne__', '__new__', '__reduce__', '__reduce_ex__', '__repr__', '__setattr__', '__sizeof__', '__str__', '__subclasshook__', '__weakref__', 'edad', 'nombre', 'pais']\n"
     ]
    }
   ],
   "source": [
    "# ejemplo de dir\n",
    "class Persona:\n",
    "    nombre = \"Mariano\"\n",
    "    edad = 27\n",
    "    pais = \"Chile\"\n",
    "\n",
    "print(dir(Persona))"
   ]
  },
  {
   "cell_type": "markdown",
   "metadata": {},
   "source": [
    "La funcion **help()** sirve para mostrar toda la documendacion relacionada a un objeto.\n",
    "La sintaxis es la siguiente:\n",
    "\n",
    "help([object])"
   ]
  },
  {
   "cell_type": "code",
   "execution_count": 2,
   "metadata": {},
   "outputs": [
    {
     "name": "stdout",
     "output_type": "stream",
     "text": [
      "Help on built-in function format in module builtins:\n",
      "\n",
      "format(value, format_spec='', /)\n",
      "    Return value.__format__(format_spec)\n",
      "    \n",
      "    format_spec defaults to the empty string.\n",
      "    See the Format Specification Mini-Language section of help('FORMATTING') for\n",
      "    details.\n",
      "\n"
     ]
    }
   ],
   "source": [
    "#se puede escribir especificamente un objeto de python, por ejemplo\n",
    "\n",
    "help(format)"
   ]
  },
  {
   "cell_type": "code",
   "execution_count": null,
   "metadata": {},
   "outputs": [
    {
     "name": "stdout",
     "output_type": "stream",
     "text": [
      "\n",
      "Welcome to Python 3.7's help utility!\n",
      "\n",
      "If this is your first time using Python, you should definitely check out\n",
      "the tutorial on the Internet at https://docs.python.org/3.7/tutorial/.\n",
      "\n",
      "Enter the name of any module, keyword, or topic to get help on writing\n",
      "Python programs and using Python modules.  To quit this help utility and\n",
      "return to the interpreter, just type \"quit\".\n",
      "\n",
      "To get a list of available modules, keywords, symbols, or topics, type\n",
      "\"modules\", \"keywords\", \"symbols\", or \"topics\".  Each module also comes\n",
      "with a one-line summary of what it does; to list the modules whose name\n",
      "or summary contain a given string such as \"spam\", type \"modules spam\".\n",
      "\n"
     ]
    }
   ],
   "source": [
    "#también si no se escribe nada adentro de la función, Python retorna ayuda:\n",
    "\n",
    "help()"
   ]
  },
  {
   "cell_type": "markdown",
   "metadata": {},
   "source": [
    "**¿Qué son diccionarios?**\n"
   ]
  },
  {
   "cell_type": "markdown",
   "metadata": {},
   "source": [
    "Es un conjunto de datos no ordenados de pares: llaves y valor.\n",
    "\n",
    "Siendo las claves elementos únicos dentro de un mismo diccionario. \n",
    "\n",
    "Es decir que no pueden existir dos elementos con una misma clave."
   ]
  },
  {
   "cell_type": "code",
   "execution_count": 47,
   "metadata": {},
   "outputs": [
    {
     "data": {
      "text/plain": [
       "{83200050: 'Rafael Blanco', 85200702: 'Mariana Rivas', 84200053: 'Diego Luna'}"
      ]
     },
     "execution_count": 47,
     "metadata": {},
     "output_type": "execute_result"
    }
   ],
   "source": [
    "agenda_telefonica = {83200050 : 'Rafael Blanco', 85200702 : 'Mariana Rivas', 84200053 : 'Diego Luna'}\n",
    "agenda_telefonica"
   ]
  },
  {
   "cell_type": "code",
   "execution_count": 53,
   "metadata": {},
   "outputs": [
    {
     "name": "stdout",
     "output_type": "stream",
     "text": [
      "83200050 : Rafael Blanco\n",
      "85200702 : Mariana Rivas\n",
      "84200053 : Diego Luna\n"
     ]
    }
   ],
   "source": [
    "#se puede consultar usando un for loop\n",
    "\n",
    "for key in agenda_telefonica:\n",
    "    \n",
    "  print (key, \":\", agenda_telefonica[key])"
   ]
  },
  {
   "cell_type": "markdown",
   "metadata": {},
   "source": [
    "**¿Qué son *args y ** kwargs? ¿Cómo se usan?**"
   ]
  },
  {
   "cell_type": "markdown",
   "metadata": {},
   "source": [
    "Permiten pasar una cantidad (que puede variar) de argumentos en una función.\n",
    "\n",
    "Hay que destacar que la sintaxis es * y ** , siendo los nombres de args y kwargs una simple convención, pero no es un requisito estricto su uso; es decir, que si a una función le pasamos como argumento *mi_lista o ** mi_diccionario tendrá el mismo efecto.\n",
    "\n",
    "***args**, se usara cuando no se este seguro de cuantos argumentos se tengan que pasar a la función; es decir,  permite pasar una cantidad arbitraria de argumentos. \n",
    "Por ejemplo:"
   ]
  },
  {
   "cell_type": "code",
   "execution_count": 2,
   "metadata": {},
   "outputs": [
    {
     "data": {
      "text/plain": [
       "3.5"
      ]
     },
     "execution_count": 2,
     "metadata": {},
     "output_type": "execute_result"
    }
   ],
   "source": [
    "def promedio(*numeros):\n",
    "    #Saber cuántos elementos hay:\n",
    "    cantidad_de_elementos = len(numeros)\n",
    "    \n",
    "    #Evitar división entre 0:\n",
    "    if cantidad_de_elementos <= 0:\n",
    "        return 0\n",
    "    suma = 0\n",
    "    \n",
    "    # Iteramos los argumentos o *args\n",
    "    for numero in numeros:\n",
    "        suma += numero\n",
    "    return suma / cantidad_de_elementos\n",
    "\n",
    "\n",
    "promedio(2,3,4,5)\n"
   ]
  },
  {
   "cell_type": "markdown",
   "metadata": {},
   "source": [
    "De forma similar cuando no se sepa el número de argumentos de va a recibir una función, ****kwargs** acepta argumento para parámetros con nombres que no han sido definidos de antemano.\n",
    "\n",
    "Aquí por ejemplo tenemos una función que conecta a una base de datos desde Python:\n",
    "\n",
    "    def conectar(host, puerto, usuario, palabra_secreta, nombre_base_de_datos)\n",
    "\n",
    "Imagenemos que más adelante le agregamos más parámetros. Quedaría muy larga, mucho más. Así que mejor la definimos así:\n",
    "\n",
    "    def conectar(**opciones)\n"
   ]
  },
  {
   "cell_type": "code",
   "execution_count": 3,
   "metadata": {},
   "outputs": [],
   "source": [
    "def conectar(**opciones):\n",
    "    \n",
    "    host = opciones[\"host\"]\n",
    "    puerto = opciones[\"puerto\"]\n",
    "    usuario = opciones[\"usuario\"]\n",
    "    palabra_secreta = opciones[\"palabra_secreta\"]\n",
    "    nombre_base_de_datos = opciones[\"nombre_base_de_datos\"]\n",
    "    \n",
    "    \n",
    "    print(\n",
    "        \"Host: {}, puerto: {}, usuario: {}, palabra_secreta: {}, nombre_base_de_datos: {}\"\n",
    "        .format(host, puerto, usuario, palabra_secreta, nombre_base_de_datos))"
   ]
  },
  {
   "cell_type": "markdown",
   "metadata": {},
   "source": [
    "**¿Qué son índices negativos?**"
   ]
  },
  {
   "cell_type": "markdown",
   "metadata": {},
   "source": [
    "Se utilizan para contar o ubicar en una lista de manera inversa"
   ]
  },
  {
   "cell_type": "code",
   "execution_count": 9,
   "metadata": {},
   "outputs": [
    {
     "data": {
      "text/plain": [
       "['perro', 'gato', 'gallina']"
      ]
     },
     "execution_count": 9,
     "metadata": {},
     "output_type": "execute_result"
    }
   ],
   "source": [
    "una_lista = ['perro', 'gato', 'gallina', 'conejo']\n",
    "\n",
    "\n",
    "#aqui muestra todos los elementos menos el último\n",
    "todos_menos_el_ultimo = una_lista[:-1]\n",
    "todos_menos_el_ultimo"
   ]
  },
  {
   "cell_type": "code",
   "execution_count": 10,
   "metadata": {},
   "outputs": [
    {
     "data": {
      "text/plain": [
       "'conejo'"
      ]
     },
     "execution_count": 10,
     "metadata": {},
     "output_type": "execute_result"
    }
   ],
   "source": [
    "#aqui solo el último elemento de la lista\n",
    "el_ultimo = una_lista[-1]\n",
    "el_ultimo"
   ]
  },
  {
   "cell_type": "markdown",
   "metadata": {},
   "source": [
    "**¿Cómo se puede ordenar aleatoriamente -o desordenar- una lista?**"
   ]
  },
  {
   "cell_type": "code",
   "execution_count": 9,
   "metadata": {},
   "outputs": [
    {
     "data": {
      "text/plain": [
       "[3, 1, 4, 5, 0, 2]"
      ]
     },
     "execution_count": 9,
     "metadata": {},
     "output_type": "execute_result"
    }
   ],
   "source": [
    "#utilizando shuffle de la lib random\n",
    "\n",
    "lista_ordenada = [0, 1, 2, 3, 4, 5]\n",
    "\n",
    "import random\n",
    "random.shuffle(lista_ordenada)\n",
    "lista_ordenada"
   ]
  },
  {
   "cell_type": "markdown",
   "metadata": {},
   "source": [
    "**¿Cómo se puede ordenar una lista?**\n",
    "\n",
    "Usando el commando **sort**"
   ]
  },
  {
   "cell_type": "code",
   "execution_count": 2,
   "metadata": {},
   "outputs": [
    {
     "data": {
      "text/plain": [
       "['araña', 'burro', 'castor', 'danta', 'elefante', 'faisán']"
      ]
     },
     "execution_count": 2,
     "metadata": {},
     "output_type": "execute_result"
    }
   ],
   "source": [
    "animales_alfabeticos = ['castor', 'elefante', 'araña', 'faisán','burro', 'danta']\n",
    "\n",
    "animales_alfabeticos.sort()\n",
    "animales_alfabeticos"
   ]
  },
  {
   "cell_type": "markdown",
   "metadata": {},
   "source": [
    "**Explique o justifique los resultados de A0,A1,A2,A3,A4,A5,A6:**\n",
    "    \n",
    "\n",
    "    A3 = sorted([A0[s] for s in A0])\n",
    "\n",
    "    A4 = [i for i in A1 if i in A3]\n",
    "\n",
    "    A5 = {i:i*i for i in A1}\n",
    "\n",
    "    A6 = [[i,i*i] for i in A1]\n",
    "\n",
    "    print(A0,A1,A2,A3,A4,A5,A6)\n",
    "    "
   ]
  },
  {
   "cell_type": "code",
   "execution_count": 24,
   "metadata": {},
   "outputs": [
    {
     "data": {
      "text/plain": [
       "{'a': 1, 'b': 2, 'c': 3, 'd': 4, 'e': 5}"
      ]
     },
     "execution_count": 24,
     "metadata": {},
     "output_type": "execute_result"
    }
   ],
   "source": [
    "''''\n",
    "Se utiiza la función zip para asociar la lista a (letras) con la lista b (numeros).\n",
    "En este caso en un diccionario, pero se puede utilizar en cualquier estructura de datos.\n",
    "''' \n",
    "\n",
    "A0 = dict(zip(('a','b','c','d','e'),(1,2,3,4,5)))\n",
    "A0"
   ]
  },
  {
   "cell_type": "code",
   "execution_count": 27,
   "metadata": {},
   "outputs": [
    {
     "data": {
      "text/plain": [
       "range(0, 10)"
      ]
     },
     "execution_count": 27,
     "metadata": {},
     "output_type": "execute_result"
    }
   ],
   "source": [
    "#range muestra, un rango de numeros donde muestra el primero y el último. \n",
    "\n",
    "A1 = range(10)\n",
    "A1"
   ]
  },
  {
   "cell_type": "code",
   "execution_count": 29,
   "metadata": {},
   "outputs": [
    {
     "data": {
      "text/plain": [
       "[0, 1, 2, 3, 4, 5, 6, 7, 8, 9]"
      ]
     },
     "execution_count": 29,
     "metadata": {},
     "output_type": "execute_result"
    }
   ],
   "source": [
    "#ordena en orden ascendente los items que estén en la lista A1, pero dentro del rango de la lista A2\n",
    "\n",
    "A2 = sorted([i for i in A1 if i in A0])\n",
    "A2"
   ]
  },
  {
   "cell_type": "code",
   "execution_count": 38,
   "metadata": {},
   "outputs": [
    {
     "data": {
      "text/plain": [
       "[0, 1, 2, 3, 4, 5, 6, 7, 8, 9]"
      ]
     },
     "execution_count": 38,
     "metadata": {},
     "output_type": "execute_result"
    }
   ],
   "source": [
    "#Ordena los valores dentro de la lista A0\n",
    "\n",
    "A3 = sorted([A0[s] for s in A0])\n",
    "A3"
   ]
  },
  {
   "cell_type": "code",
   "execution_count": 41,
   "metadata": {},
   "outputs": [
    {
     "data": {
      "text/plain": [
       "[0, 1, 2, 3, 4, 5, 6, 7, 8, 9]"
      ]
     },
     "execution_count": 41,
     "metadata": {},
     "output_type": "execute_result"
    }
   ],
   "source": [
    "#Aplana 2 listas (A1, A3) en una sola lista A4\n",
    "\n",
    "A4 = [i for i in A1 if i in A3]\n",
    "A4"
   ]
  },
  {
   "cell_type": "code",
   "execution_count": 40,
   "metadata": {},
   "outputs": [
    {
     "data": {
      "text/plain": [
       "{0: 0, 1: 1, 2: 4, 3: 9, 4: 16, 5: 25, 6: 36, 7: 49, 8: 64, 9: 81}"
      ]
     },
     "execution_count": 40,
     "metadata": {},
     "output_type": "execute_result"
    }
   ],
   "source": [
    "#Crea una función Lambda que multiplica cada dígito por sí mismo. (Lo eleva al cuadrado)\n",
    "\n",
    "A5 = {i:i*i for i in A1}\n",
    "A5"
   ]
  },
  {
   "cell_type": "code",
   "execution_count": 37,
   "metadata": {},
   "outputs": [
    {
     "name": "stdout",
     "output_type": "stream",
     "text": [
      "range(0, 10) range(0, 10) [0, 1, 2, 3, 4, 5, 6, 7, 8, 9] [0, 1, 2, 3, 4, 5, 6, 7, 8, 9] [0, 1, 2, 3, 4, 5, 6, 7, 8, 9] {0: 0, 1: 1, 2: 4, 3: 9, 4: 16, 5: 25, 6: 36, 7: 49, 8: 64, 9: 81} [[0, 0], [1, 1], [2, 4], [3, 9], [4, 16], [5, 25], [6, 36], [7, 49], [8, 64], [9, 81]]\n"
     ]
    }
   ],
   "source": [
    "#Resuelve una funcion y un for loop en una sola línea de código.\n",
    "\n",
    "A6 = [[i,i*i] for i in A1]\n",
    "print(A0,A1,A2,A3,A4,A5,A6)"
   ]
  },
  {
   "cell_type": "markdown",
   "metadata": {},
   "source": [
    "**¿Cómo se pueden generar números aleatorios? Enteros y decimales**"
   ]
  },
  {
   "cell_type": "code",
   "execution_count": 14,
   "metadata": {},
   "outputs": [
    {
     "data": {
      "text/plain": [
       "3"
      ]
     },
     "execution_count": 14,
     "metadata": {},
     "output_type": "execute_result"
    }
   ],
   "source": [
    "import random\n",
    "\n",
    "#OPCION 1: randint, un numero random entre (a, b)\n",
    "random.randint(1, 10)\n"
   ]
  },
  {
   "cell_type": "code",
   "execution_count": 15,
   "metadata": {},
   "outputs": [
    {
     "data": {
      "text/plain": [
       "60"
      ]
     },
     "execution_count": 15,
     "metadata": {},
     "output_type": "execute_result"
    }
   ],
   "source": [
    "#OPCION 2: randrange, permite uno, dos o tres valores (a, b, c)\n",
    "random.randrange(10, 110, 10)"
   ]
  },
  {
   "cell_type": "markdown",
   "metadata": {},
   "source": [
    "**¿Qué es pickling y unpickling?**"
   ]
  },
  {
   "cell_type": "markdown",
   "metadata": {},
   "source": [
    "El **pickle module** es usado para serializar y des-serializar uba estructura de objetos en Python. A cualquier objeto en Python se le puede hacer pickle, para posteriormente salvarlo como archivo.\n",
    "\n",
    "El pickle permite convertir un objeto Python (listas, diccionarios, tuplas, etc..) en archivos. La idea es que ese nuevo archivo, contiene la información necesaria para reconstruir nuevamente el objeto en un script de Python. (unpickling)"
   ]
  },
  {
   "cell_type": "markdown",
   "metadata": {},
   "source": [
    "**¿Para qué sirve la función map, lambda y filter?**"
   ]
  },
  {
   "cell_type": "markdown",
   "metadata": {},
   "source": [
    "La funcion **map()** ejecuta una función para cada item iterable. Ese item se manda como parámetro de la función, por ejemplo:\n"
   ]
  },
  {
   "cell_type": "code",
   "execution_count": 5,
   "metadata": {},
   "outputs": [
    {
     "data": {
      "text/plain": [
       "[5, 6, 6]"
      ]
     },
     "execution_count": 5,
     "metadata": {},
     "output_type": "execute_result"
    }
   ],
   "source": [
    "def calcular_longitud(a):\n",
    "  return len(a)\n",
    "\n",
    "result = map(calcular_longitud, ('apple', 'banana', 'cherry'))\n",
    "\n",
    "#convertir map a lista para ver el resultado\n",
    "list(result)"
   ]
  },
  {
   "cell_type": "markdown",
   "metadata": {},
   "source": [
    "La función **lambda()** es una función pequeña y anónima, puede recibir cualquier cantidad de argumentos, pero solo puede tener una expresión. Por ejemplo:"
   ]
  },
  {
   "cell_type": "code",
   "execution_count": 6,
   "metadata": {},
   "outputs": [
    {
     "data": {
      "text/plain": [
       "30"
      ]
     },
     "execution_count": 6,
     "metadata": {},
     "output_type": "execute_result"
    }
   ],
   "source": [
    "multi = lambda a, b : a * b\n",
    "multi(5, 6)"
   ]
  },
  {
   "cell_type": "markdown",
   "metadata": {},
   "source": [
    "La función **filter()** retorna un iterador, donde los items fueron filtrados en una funcion para asegurar si son aceptados o no, pro ejemplo:\n"
   ]
  },
  {
   "cell_type": "code",
   "execution_count": 12,
   "metadata": {},
   "outputs": [
    {
     "name": "stdout",
     "output_type": "stream",
     "text": [
      "18\n",
      "24\n",
      "32\n"
     ]
    }
   ],
   "source": [
    "edades = [5, 12, 17, 18, 24, 32]\n",
    "\n",
    "#esta funcion separa solo los mayores de edad.\n",
    "def mayores_de_edad(x):\n",
    "  if x < 18:\n",
    "    return False\n",
    "  else:\n",
    "    return True\n",
    "\n",
    "adultos = filter(mayores_de_edad, edades)\n",
    "\n",
    "for x in adultos:\n",
    "  print(x)"
   ]
  },
  {
   "cell_type": "markdown",
   "metadata": {},
   "source": [
    "**¿Qué es list comprehension, set comprehension y dict comprehension?**\n",
    "\n",
    "**list comprehension** es una manera elegante de resolver un for loop simple, en una sola línea de código, más facil de leer.\n",
    "\n",
    "En el siguiente ejemplo se crea una lista de letras que componen la palabra \"humano\" "
   ]
  },
  {
   "cell_type": "code",
   "execution_count": 18,
   "metadata": {},
   "outputs": [
    {
     "name": "stdout",
     "output_type": "stream",
     "text": [
      "['h', 'u', 'm', 'a', 'n', 'o']\n"
     ]
    }
   ],
   "source": [
    "#list comprehension\n",
    "h_letters = [ letter for letter in 'humano' ]\n",
    "print( h_letters)"
   ]
  },
  {
   "cell_type": "markdown",
   "metadata": {},
   "source": [
    "Los **set comprehension** son muy similares a los list comprehensions. La única diferencia entre ellas es que los set comprehensions usan brackets curvos {}. \n",
    "\n",
    "En el siguiente ejemplo se quieren obtener solo los números pares de una lista (sin repetidos):"
   ]
  },
  {
   "cell_type": "code",
   "execution_count": 17,
   "metadata": {},
   "outputs": [
    {
     "name": "stdout",
     "output_type": "stream",
     "text": [
      "El output del set es:  {2, 4, 6}\n"
     ]
    }
   ],
   "source": [
    "#set comprehension\n",
    "input_list = [1, 2, 3, 4, 4, 5, 6, 6, 6, 7, 7] \n",
    "  \n",
    "output_set = set() \n",
    "  \n",
    "for x in input_list: \n",
    "    if x % 2 == 0: \n",
    "        output_set.add(x) \n",
    "  \n",
    "print(\"El output del set es: \", output_set) \n"
   ]
  },
  {
   "cell_type": "markdown",
   "metadata": {},
   "source": [
    "**dict comprehension** extendiendo la idea de las \"list comprenhension\", se pueden crear diccionarios en esa misma lína. La estructura básica de un dict comprehension es la siguiente:\n",
    "\n",
    "    output_dict = {key:value for (key, value) in iterable if (key, value satisface esta condición)}"
   ]
  },
  {
   "cell_type": "code",
   "execution_count": 21,
   "metadata": {},
   "outputs": [
    {
     "name": "stdout",
     "output_type": "stream",
     "text": [
      "{'San José': 'Montes de Oca', 'Hereria': 'San Isidro', 'Guanacaste': 'Liberia'}\n"
     ]
    }
   ],
   "source": [
    "#dict comprehension\n",
    "provincia = ['San José', 'Hereria', 'Guanacaste'] \n",
    "canton = ['Montes de Oca', 'San Isidro', 'Liberia'] \n",
    "  \n",
    "dict_comp = {key:value for (key, value) in zip(provincia, canton)} \n",
    "print(dict_comp) \n"
   ]
  }
 ],
 "metadata": {
  "kernelspec": {
   "display_name": "Python 3",
   "language": "python",
   "name": "python3"
  },
  "language_info": {
   "codemirror_mode": {
    "name": "ipython",
    "version": 3
   },
   "file_extension": ".py",
   "mimetype": "text/x-python",
   "name": "python",
   "nbconvert_exporter": "python",
   "pygments_lexer": "ipython3",
   "version": "3.7.3"
  }
 },
 "nbformat": 4,
 "nbformat_minor": 2
}
